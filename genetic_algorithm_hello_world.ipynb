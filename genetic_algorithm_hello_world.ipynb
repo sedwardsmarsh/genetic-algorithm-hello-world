{
  "nbformat": 4,
  "nbformat_minor": 0,
  "metadata": {
    "colab": {
      "name": "genetic algorithm hello world",
      "provenance": [],
      "collapsed_sections": [],
      "authorship_tag": "ABX9TyPC0NvTNA/zw1zxi1KVOzMK",
      "include_colab_link": true
    },
    "kernelspec": {
      "name": "python3",
      "display_name": "Python 3"
    }
  },
  "cells": [
    {
      "cell_type": "markdown",
      "metadata": {
        "id": "view-in-github",
        "colab_type": "text"
      },
      "source": [
        "<a href=\"https://colab.research.google.com/github/sedwardsmarsh/genetic-algorithm-hello-world/blob/main/genetic_algorithm_hello_world.ipynb\" target=\"_parent\"><img src=\"https://colab.research.google.com/assets/colab-badge.svg\" alt=\"Open In Colab\"/></a>"
      ]
    },
    {
      "cell_type": "markdown",
      "metadata": {
        "id": "EYhPnKlEujPP"
      },
      "source": [
        "# I'm using this notebook to learn about genetic algorithms\n",
        "\n",
        "## sources:\n",
        "* [quick and dirty introduction](https://towardsdatascience.com/introduction-to-genetic-algorithms-including-example-code-e396e98d8bf3)\n",
        "* [wiki page](https://en.wikipedia.org/wiki/Genetic_algorithm)\n",
        "* [bonkers applications of gen algs](http://alglobus.net/NASAwork/papers/Space2006Antenna.pdf)"
      ]
    },
    {
      "cell_type": "markdown",
      "metadata": {
        "id": "tPj8W3kD8BVY"
      },
      "source": [
        "## TODO: change probabilities of zero and one generation for population initialization "
      ]
    },
    {
      "cell_type": "code",
      "metadata": {
        "id": "lFpfmhUYvsYy"
      },
      "source": [
        "# imports\n",
        "import numpy as np\n",
        "from operator import attrgetter\n",
        "\n",
        "np.random.seed(0)"
      ],
      "execution_count": null,
      "outputs": []
    },
    {
      "cell_type": "code",
      "metadata": {
        "id": "D9UIJY6kufbB"
      },
      "source": [
        "class GeneticAlgorithm:\n",
        "\n",
        "  # internal chromosome class\n",
        "  class Chromosome:\n",
        "    def __init__(self, g=None, genes=[]):\n",
        "      # g is the number of genes per chromosome\n",
        "      if g == None:\n",
        "        g = 10\n",
        "      if genes != []:\n",
        "        self.genes = genes\n",
        "      else:\n",
        "        self.genes = np.random.randint(0, 2, g)\n",
        "      self.fitness = None\n",
        "\n",
        "    def __str__(self):\n",
        "      return str(self.genes)\n",
        "        \n",
        "  \n",
        "  def __init__(self, n=10, g=10):\n",
        "    self.parents = []\n",
        "    # n is the population size\n",
        "    self.population = []\n",
        "    for i in range(n):\n",
        "      C = self.Chromosome(g)\n",
        "      self.population.append(C)\n",
        "\n",
        "  def update_fitness(self, style='sum'):\n",
        "      if style == 'sum':\n",
        "        for i in range(len(self.population)):\n",
        "          self.population[i].fitness = np.sum(self.population[i].genes)\n",
        "  \n",
        "  def sort_population(self):\n",
        "    self.population.sort(key=lambda c: c.fitness)\n",
        "  \n",
        "  def select(self, style='greatest'):\n",
        "    # if parents % 2 != 0:\n",
        "    #   print('parents must be multiple of 2')\n",
        "    self.sort_population()\n",
        "    for i in range(2):\n",
        "      # higher probability to select most-fit chromosomes\n",
        "      if style == 'greatest': \n",
        "        if np.random.randint(0, 10) < 8:\n",
        "          self.parents.append(self.population[-1])\n",
        "        else: # select random chromosome in population\n",
        "          self.parents.append(\n",
        "              self.population[np.random.randint(0, len(self.population))])\n",
        "          \n",
        "  def crossover(self, radix=None):\n",
        "    # define radix as crossover point inside chromosome\n",
        "    radix = np.random.randint(2, len(self.population)-2)\n",
        "    # swap parent's genes and create children\n",
        "    parent1, parent2 = self.parents[0], self.parents[1]\n",
        "    child1 = self.Chromosome(genes=np.concatenate((parent1.genes[:radix], parent2.genes[radix:])))\n",
        "    child2 = self.Chromosome(genes=np.concatenate((parent2.genes[:radix], parent1.genes[radix:])))\n",
        "    # add children to front of population\n",
        "    self.population.append(child1)\n",
        "    self.population.append(child2)\n",
        "\n",
        "  def mutation(self):\n",
        "    # low probability of mutation\n",
        "    if np.random.randint(0, 10) > 1:\n",
        "      return\n",
        "    child1, child2 = self.population[-1], self.population[-2]\n",
        "    i = np.random.randint(2, 10) # select random number of genes to mutate\n",
        "    for c in (child1, child2):\n",
        "      for x in range(i):\n",
        "        if i >= len(c.genes): # restrict i to be within length of chromosome\n",
        "          i -= len(c.genes)\n",
        "        c.genes[i] = 1 if c.genes[i] == 0 else 0\n",
        "        i += 1\n",
        "\n",
        "  def trim(self, style='greatest'):\n",
        "    if style == 'greatest':\n",
        "      # remove least fit chromosomes\n",
        "      del self.population[:2]\n",
        "\n",
        "  def fitness_difference(self):\n",
        "    return abs(self.population[-1].fitness - self.population[0].fitness) \n",
        "\n",
        "  def step(self, num_steps=1, fitness='sum', selection='greatest', \n",
        "           crossover_point=None, trim='greatest'\n",
        "           ):\n",
        "    for i in range(num_steps):\n",
        "      self.update_fitness(fitness)\n",
        "      self.select(selection)\n",
        "      self.crossover(crossover_point)\n",
        "      self.mutation()\n",
        "      self.trim(trim)\n",
        "      self.update_fitness(fitness)\n",
        "      \n",
        "  def __str__(self):\n",
        "    pop = []\n",
        "    for i in range(len(self.population)):\n",
        "      pop.append(str(i) + ': ' + str(self.population[i])\n",
        "      + ' fit: ' + str(self.population[i].fitness))\n",
        "    return str(pop)"
      ],
      "execution_count": null,
      "outputs": []
    },
    {
      "cell_type": "code",
      "metadata": {
        "colab": {
          "base_uri": "https://localhost:8080/"
        },
        "id": "iR0Z6ghAiXSQ",
        "outputId": "c5c18a5b-b9e3-4d84-83af-1c0ce4f0be72"
      },
      "source": [
        "G = GeneticAlgorithm()\n",
        "\n",
        "# loop while difference in fitness between most and least fit individuals \n",
        "# is more than 1\n",
        "G.step()\n",
        "while G.fitness_difference() >= 1:\n",
        "  G.step()\n",
        "  print(G)\n"
      ],
      "execution_count": null,
      "outputs": [
        {
          "output_type": "stream",
          "text": [
            "['0: [1 0 0 0 0 1 1 0 0 1] fit: 4', '1: [1 0 0 1 0 1 0 1 0 0] fit: 4', '2: [1 0 1 1 0 0 1 0 1 0] fit: 5', '3: [1 1 0 0 1 1 1 1 0 0] fit: 6', '4: [0 1 1 1 1 0 0 1 0 1] fit: 6', '5: [0 1 1 1 1 1 1 1 1 1] fit: 9', '6: [0 1 1 1 1 1 1 1 1 1] fit: 9', '7: [0 1 1 1 1 1 1 1 1 1] fit: 9', '8: [0 1 1 1 1 1 1 1 1 1] fit: 9', '9: [0 1 1 1 1 1 1 1 1 1] fit: 9']\n",
            "['0: [1 0 1 1 0 0 1 0 1 0] fit: 5', '1: [1 1 0 0 1 1 1 1 0 0] fit: 6', '2: [0 1 1 1 1 0 0 1 0 1] fit: 6', '3: [0 1 1 1 1 1 1 1 1 1] fit: 9', '4: [0 1 1 1 1 1 1 1 1 1] fit: 9', '5: [0 1 1 1 1 1 1 1 1 1] fit: 9', '6: [0 1 1 1 1 1 1 1 1 1] fit: 9', '7: [0 1 1 1 1 1 1 1 1 1] fit: 9', '8: [1 0 0 0 0 0 1 1 0 0] fit: 3', '9: [1 0 0 0 0 0 0 0 1 0] fit: 2']\n",
            "['0: [1 0 1 1 0 0 1 0 1 0] fit: 5', '1: [1 1 0 0 1 1 1 1 0 0] fit: 6', '2: [0 1 1 1 1 0 0 1 0 1] fit: 6', '3: [0 1 1 1 1 1 1 1 1 1] fit: 9', '4: [0 1 1 1 1 1 1 1 1 1] fit: 9', '5: [0 1 1 1 1 1 1 1 1 1] fit: 9', '6: [0 1 1 1 1 1 1 1 1 1] fit: 9', '7: [0 1 1 1 1 1 1 1 1 1] fit: 9', '8: [0 1 1 1 1 1 1 1 1 1] fit: 9', '9: [0 1 1 1 1 1 1 1 1 1] fit: 9']\n",
            "['0: [0 1 1 1 1 0 0 1 0 1] fit: 6', '1: [0 1 1 1 1 1 1 1 1 1] fit: 9', '2: [0 1 1 1 1 1 1 1 1 1] fit: 9', '3: [0 1 1 1 1 1 1 1 1 1] fit: 9', '4: [0 1 1 1 1 1 1 1 1 1] fit: 9', '5: [0 1 1 1 1 1 1 1 1 1] fit: 9', '6: [0 1 1 1 1 1 1 1 1 1] fit: 9', '7: [0 1 1 1 1 1 1 1 1 1] fit: 9', '8: [0 1 1 1 1 1 1 1 1 1] fit: 9', '9: [0 1 1 1 1 1 1 1 1 1] fit: 9']\n",
            "['0: [0 1 1 1 1 1 1 1 1 1] fit: 9', '1: [0 1 1 1 1 1 1 1 1 1] fit: 9', '2: [0 1 1 1 1 1 1 1 1 1] fit: 9', '3: [0 1 1 1 1 1 1 1 1 1] fit: 9', '4: [0 1 1 1 1 1 1 1 1 1] fit: 9', '5: [0 1 1 1 1 1 1 1 1 1] fit: 9', '6: [0 1 1 1 1 1 1 1 1 1] fit: 9', '7: [0 1 1 1 1 1 1 1 1 1] fit: 9', '8: [0 1 1 1 0 0 0 0 1 1] fit: 5', '9: [0 1 0 0 1 1 1 1 1 1] fit: 7']\n",
            "['0: [0 1 1 1 1 1 1 1 1 1] fit: 9', '1: [0 1 1 1 1 1 1 1 1 1] fit: 9', '2: [0 1 1 1 1 1 1 1 1 1] fit: 9', '3: [0 1 1 1 1 1 1 1 1 1] fit: 9', '4: [0 1 1 1 1 1 1 1 1 1] fit: 9', '5: [0 1 1 1 1 1 1 1 1 1] fit: 9', '6: [0 1 1 1 1 1 1 1 1 1] fit: 9', '7: [0 1 1 1 1 1 1 1 1 1] fit: 9', '8: [1 0 0 0 0 0 1 1 0 0] fit: 3', '9: [1 0 0 0 0 0 0 0 1 0] fit: 2']\n",
            "['0: [0 1 1 1 1 1 1 1 1 1] fit: 9', '1: [0 1 1 1 1 1 1 1 1 1] fit: 9', '2: [0 1 1 1 1 1 1 1 1 1] fit: 9', '3: [0 1 1 1 1 1 1 1 1 1] fit: 9', '4: [0 1 1 1 1 1 1 1 1 1] fit: 9', '5: [0 1 1 1 1 1 1 1 1 1] fit: 9', '6: [0 1 1 1 1 1 1 1 1 1] fit: 9', '7: [0 1 1 1 1 1 1 1 1 1] fit: 9', '8: [0 1 1 1 1 1 1 1 1 1] fit: 9', '9: [0 1 1 1 1 1 1 1 1 1] fit: 9']\n"
          ],
          "name": "stdout"
        },
        {
          "output_type": "stream",
          "text": [
            "/usr/local/lib/python3.6/dist-packages/ipykernel_launcher.py:9: DeprecationWarning: elementwise comparison failed; this will raise an error in the future.\n",
            "  if __name__ == '__main__':\n"
          ],
          "name": "stderr"
        }
      ]
    },
    {
      "cell_type": "code",
      "metadata": {
        "id": "W5P5MSv6wonD",
        "colab": {
          "base_uri": "https://localhost:8080/"
        },
        "outputId": "3b670131-07a7-43e5-8583-7935f592e234"
      },
      "source": [
        "# testing\r\n",
        "\r\n",
        "G = GeneticAlgorithm()\r\n",
        "print(G)\r\n",
        "\r\n",
        "G.update_fitness()\r\n",
        "print(G)\r\n",
        "\r\n",
        "G.select()\r\n",
        "print(G)\r\n",
        "\r\n",
        "G.crossover()\r\n",
        "print(G)  \r\n",
        "\r\n",
        "G.mutation()\r\n",
        "print(G)\r\n",
        "\r\n",
        "G.trim()\r\n",
        "print(G)"
      ],
      "execution_count": null,
      "outputs": [
        {
          "output_type": "stream",
          "text": [
            "['0: [0 1 1 0 1 1 1 1 1 1] fit: None', '1: [1 0 0 1 0 0 0 0 0 1] fit: None', '2: [0 1 1 0 0 1 1 1 1 0] fit: None', '3: [1 0 1 0 1 1 0 1 1 0] fit: None', '4: [0 1 0 1 1 1 1 1 0 1] fit: None', '5: [0 1 1 1 1 0 1 0 0 1] fit: None', '6: [1 0 1 0 1 0 0 0 0 0] fit: None', '7: [1 1 0 0 0 1 1 0 1 0] fit: None', '8: [0 1 0 1 1 1 1 1 1 0] fit: None', '9: [1 1 0 0 1 0 0 1 1 0] fit: None']\n",
            "['0: [0 1 1 0 1 1 1 1 1 1] fit: 8', '1: [1 0 0 1 0 0 0 0 0 1] fit: 3', '2: [0 1 1 0 0 1 1 1 1 0] fit: 6', '3: [1 0 1 0 1 1 0 1 1 0] fit: 6', '4: [0 1 0 1 1 1 1 1 0 1] fit: 7', '5: [0 1 1 1 1 0 1 0 0 1] fit: 6', '6: [1 0 1 0 1 0 0 0 0 0] fit: 3', '7: [1 1 0 0 0 1 1 0 1 0] fit: 5', '8: [0 1 0 1 1 1 1 1 1 0] fit: 7', '9: [1 1 0 0 1 0 0 1 1 0] fit: 5']\n",
            "['0: [1 0 0 1 0 0 0 0 0 1] fit: 3', '1: [1 0 1 0 1 0 0 0 0 0] fit: 3', '2: [1 1 0 0 0 1 1 0 1 0] fit: 5', '3: [1 1 0 0 1 0 0 1 1 0] fit: 5', '4: [0 1 1 0 0 1 1 1 1 0] fit: 6', '5: [1 0 1 0 1 1 0 1 1 0] fit: 6', '6: [0 1 1 1 1 0 1 0 0 1] fit: 6', '7: [0 1 0 1 1 1 1 1 0 1] fit: 7', '8: [0 1 0 1 1 1 1 1 1 0] fit: 7', '9: [0 1 1 0 1 1 1 1 1 1] fit: 8']\n",
            "['0: [1 0 0 1 0 0 0 0 0 1] fit: 3', '1: [1 0 1 0 1 0 0 0 0 0] fit: 3', '2: [1 1 0 0 0 1 1 0 1 0] fit: 5', '3: [1 1 0 0 1 0 0 1 1 0] fit: 5', '4: [0 1 1 0 0 1 1 1 1 0] fit: 6', '5: [1 0 1 0 1 1 0 1 1 0] fit: 6', '6: [0 1 1 1 1 0 1 0 0 1] fit: 6', '7: [0 1 0 1 1 1 1 1 0 1] fit: 7', '8: [0 1 0 1 1 1 1 1 1 0] fit: 7', '9: [0 1 1 0 1 1 1 1 1 1] fit: 8', '10: [0 1 1 0 0 1 1 1 1 1] fit: None', '11: [0 1 1 0 1 1 1 1 1 0] fit: None']\n",
            "['0: [1 0 0 1 0 0 0 0 0 1] fit: 3', '1: [1 0 1 0 1 0 0 0 0 0] fit: 3', '2: [1 1 0 0 0 1 1 0 1 0] fit: 5', '3: [1 1 0 0 1 0 0 1 1 0] fit: 5', '4: [0 1 1 0 0 1 1 1 1 0] fit: 6', '5: [1 0 1 0 1 1 0 1 1 0] fit: 6', '6: [0 1 1 1 1 0 1 0 0 1] fit: 6', '7: [0 1 0 1 1 1 1 1 0 1] fit: 7', '8: [0 1 0 1 1 1 1 1 1 0] fit: 7', '9: [0 1 1 0 1 1 1 1 1 1] fit: 8', '10: [0 1 1 0 0 1 1 1 1 1] fit: None', '11: [0 1 1 0 1 1 1 1 1 0] fit: None']\n",
            "['0: [1 1 0 0 0 1 1 0 1 0] fit: 5', '1: [1 1 0 0 1 0 0 1 1 0] fit: 5', '2: [0 1 1 0 0 1 1 1 1 0] fit: 6', '3: [1 0 1 0 1 1 0 1 1 0] fit: 6', '4: [0 1 1 1 1 0 1 0 0 1] fit: 6', '5: [0 1 0 1 1 1 1 1 0 1] fit: 7', '6: [0 1 0 1 1 1 1 1 1 0] fit: 7', '7: [0 1 1 0 1 1 1 1 1 1] fit: 8', '8: [0 1 1 0 0 1 1 1 1 1] fit: None', '9: [0 1 1 0 1 1 1 1 1 0] fit: None']\n"
          ],
          "name": "stdout"
        },
        {
          "output_type": "stream",
          "text": [
            "/usr/local/lib/python3.6/dist-packages/ipykernel_launcher.py:9: DeprecationWarning: elementwise comparison failed; this will raise an error in the future.\n",
            "  if __name__ == '__main__':\n"
          ],
          "name": "stderr"
        }
      ]
    }
  ]
}